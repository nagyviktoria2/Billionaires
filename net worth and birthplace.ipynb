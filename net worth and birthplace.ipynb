{
 "cells": [
  {
   "cell_type": "code",
   "execution_count": null,
   "metadata": {},
   "outputs": [],
   "source": [
    "#Cleaning \"Net Worth\"\n",
    "#removing characters \n",
    "df[\"Net Worth\"] = df[\"Net Worth\"].str.replace(\"$\", \"\")\n",
    "df[\"Net Worth\"] = df[\"Net Worth\"].str.replace(\"Billion\", \"\")\n",
    "#changing datatype \n",
    "df[\"Net Worth\"] = df[\"Net Worth\"].astype(float)"
   ]
  },
  {
   "cell_type": "code",
   "execution_count": null,
   "metadata": {},
   "outputs": [],
   "source": [
    "#cleaning birthplace column \n",
    "#created a copy column \n",
    "birthcountry = df['Birthplace'].str.split(', ').str[-1]\n",
    "birthcountry\n",
    "\n",
    "#manually cleaning some outlier values \n",
    "birthcountry = birthcountry.str.replace(\")\", \"\")\n",
    "birthcountry = birthcountry.str.replace(\"Prague\", \"Czech Republic\")\n",
    "\n",
    "#cleaning the United States, creating a list of the states and possible othen names\n",
    "statesplus = [\"U.S.\", \"United States of America\", \"USA\", \"Alabama\", \"Alaska\", \"Arizona\", \"Arkansas\", \"California\", \"Colorado\", \"Connecticut\", \"Delaware\", \"Florida\", \"Georgia\", \"Hawaii\", \"Idaho\", \"Illinois\", \"Indiana\", \"Iowa\", \"Kansas\", \"Kentucky\", \"Louisiana\", \"Maine\", \"Maryland\", \"Massachusetts\", \"Michigan\", \"Minnesota\", \"Mississippi\", \"Missouri\", \"Montana\", \"Nebraska\", \"Nevada\", \"New Hampshire\", \"New Jersey\", \"New Mexico\", \"New York\", \"North Carolina\", \"North Dakota\", \"Ohio\", \"Oklahoma\", \"Oregon\", \"Pennsylvania\", \"Rhode Island\", \"South Carolina\", \"South Dakota\", \"Tennessee\", \"Texas\", \"Utah\", \"Vermont\", \"Virginia\", \"Washington\", \"West Virginia\", \"Wisconsin\", \"Wyoming\" ]\n",
    "birthcountry = birthcountry.str.replace('|'.join(statesplus), \"United States\")\n",
    "birthcountry = birthcountry.str.replace('(.*United States).*', r'\\1') #dropping everything else from the column besides United States\n",
    "\n",
    "#cleaning China, creating list of provinces and other names, dropping other values \n",
    "chinaplus = [\"PRC\", \"Republic of China\"]\n",
    "birthcountry = birthcountry.str.replace('|'.join(chinaplus), \"China\")\n",
    "chinaprov = [\"Anhui\", \"Fujian\", \"Gansu\", \"Guangdong\", \"Guizhou\", \"Hainan\", \"Hebei\", \"Heilongjiang\", \"Henan\", \"Hubei\", \"Hunan\", \"Jiangsu\", \"Jiangxi\", \"Jilin\", \"Liaoning\", \"Qinghai\", \"Shaanxi\", \"Shandong\", \"Shanxi\", \"Sichuan\", \"Yunnan\", \"Zhejiang\", \"Guangxi\", \"Nei Mongol\", \"Ningxia\", \"Xinjiang\", \"Xizang\", \"Beijing\", \"Chongqing\", \"Shanghai\", \"Tianjin\", \"Hong Kong\", \"Macau\"]\n",
    "birthcountry = birthcountry.str.replace('|'.join(chinaprov), \"China\")\n",
    "birthcountry = birthcountry.str.replace('(.*China).*', r'\\1')\n",
    "birthcountry = birthcountry.str.replace(r'\\b(\\w+)\\b\\s+\\1', r'\\1')\n",
    "\n",
    "# dropping everything else besides country name \n",
    "birthcountry = birthcountry.str.replace(r'^.*?(\\bAustralia\\b).*$', r'\\1')\n",
    "birthcountry = birthcountry.str.replace(r'^.*?(\\bIndonesia\\b).*$', r'\\1')\n",
    "\n",
    "# deleting numbers then replacing empty values to missing \n",
    "birthcountry = birthcountry.str.replace(r'\\d+', '')\n",
    "birthcountry = birthcountry.replace('', np.nan)\n",
    "\n",
    "#Adding it back to theoriginal dataframe \n",
    "df = pd.concat([df, birthcountry], axis=1)"
   ]
  }
 ],
 "metadata": {
  "kernelspec": {
   "display_name": "Python 3",
   "language": "python",
   "name": "python3"
  },
  "language_info": {
   "name": "python",
   "version": "3.10.5"
  },
  "orig_nbformat": 4
 },
 "nbformat": 4,
 "nbformat_minor": 2
}
