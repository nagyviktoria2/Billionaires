{
 "cells": [
  {
   "cell_type": "code",
   "execution_count": 2,
   "metadata": {},
   "outputs": [],
   "source": [
    "#Setting up workplace\n",
    "import json\n",
    "import pandas as pd\n",
    "import numpy as np"
   ]
  },
  {
   "cell_type": "code",
   "execution_count": 3,
   "metadata": {},
   "outputs": [],
   "source": [
    "with open('C:/Users/Acer/Desktop/visualsomething/people_info.json', 'r') as file: #load it from your library, later it will be on github so it can be loaded from there \n",
    "    data = json.load(file)\n",
    "df = pd.DataFrame(data.values(), index=data.keys(), columns=[\n",
    "    \"Net Worth\", \"Industry\", \"Age\", \"Birthplace\", \"Marital Status\",\n",
    "    \"Nationality\", \"Date of Birth\", \"Citizenship\", \"Occupation\", \"Education\", \"Children\"\n",
    "])"
   ]
  },
  {
   "cell_type": "code",
   "execution_count": 5,
   "metadata": {},
   "outputs": [],
   "source": [
    "#resetting index, naming first column \n",
    "df = df.rename(columns={'Unnamed: 0': 'Name'})\n",
    "df.reset_index(inplace=True)\n",
    "df.index.name = \"Index\"\n",
    "df = df.rename(columns = {\"index\" : \"Name\"})"
   ]
  },
  {
   "cell_type": "code",
   "execution_count": 7,
   "metadata": {},
   "outputs": [],
   "source": [
    "#cleaning the column \"Name\"\n",
    "#deleting unknown values \n",
    "df = df[df[\"Name\"] != \"Unknown\"]"
   ]
  },
  {
   "cell_type": "code",
   "execution_count": 9,
   "metadata": {},
   "outputs": [],
   "source": [
    "#Replacing \"Unknown\" to missing values \n",
    "df = df.replace(\"Unknown\", np.nan)"
   ]
  },
  {
   "cell_type": "code",
   "execution_count": 10,
   "metadata": {},
   "outputs": [],
   "source": [
    "#cleaning \"Age\" column\n",
    "\n",
    "#creating a separate \"Age\" dataframe and calculating the mean age\n",
    "Age_column = pd.DataFrame({\"Age\": df[\"Age\"]})\n",
    "Age_column = Age_column.dropna()\n",
    "Age_column[\"Age\"] = Age_column[\"Age\"].astype(int)\n",
    "mean_age = Age_column[\"Age\"].mean()\n",
    "\n",
    "#replacing missing values by mean age\n",
    "mean_age = int(mean_age)\n",
    "df[\"Age\"] = df[\"Age\"].fillna(mean_age)\n",
    "\n",
    "#Changing datatype in original dataframe \n",
    "df[\"Age\"] = df[\"Age\"].astype(int)"
   ]
  },
  {
   "cell_type": "code",
   "execution_count": 12,
   "metadata": {},
   "outputs": [
    {
     "name": "stderr",
     "output_type": "stream",
     "text": [
      "C:\\Users\\Acer\\AppData\\Local\\Temp\\ipykernel_9660\\1271089869.py:3: FutureWarning: The default value of regex will change from True to False in a future version. In addition, single character regular expressions will *not* be treated as literal strings when regex=True.\n",
      "  df[\"Net Worth\"] = df[\"Net Worth\"].str.replace(\"$\", \"\")\n"
     ]
    }
   ],
   "source": [
    "#Cleaning \"Net Worth\"\n",
    "#removing characters \n",
    "df[\"Net Worth\"] = df[\"Net Worth\"].str.replace(\"$\", \"\")\n",
    "df[\"Net Worth\"] = df[\"Net Worth\"].str.replace(\"Billion\", \"\")\n",
    "#changing datatype \n",
    "df[\"Net Worth\"] = df[\"Net Worth\"].astype(float)"
   ]
  },
  {
   "cell_type": "code",
   "execution_count": 14,
   "metadata": {},
   "outputs": [
    {
     "name": "stderr",
     "output_type": "stream",
     "text": [
      "C:\\Users\\Acer\\AppData\\Local\\Temp\\ipykernel_9660\\1893543015.py:7: FutureWarning: The default value of regex will change from True to False in a future version. In addition, single character regular expressions will *not* be treated as literal strings when regex=True.\n",
      "  birthcountry = birthcountry.str.replace(\")\", \"\")\n",
      "C:\\Users\\Acer\\AppData\\Local\\Temp\\ipykernel_9660\\1893543015.py:12: FutureWarning: The default value of regex will change from True to False in a future version.\n",
      "  birthcountry = birthcountry.str.replace('|'.join(statesplus), \"United States\")\n",
      "C:\\Users\\Acer\\AppData\\Local\\Temp\\ipykernel_9660\\1893543015.py:13: FutureWarning: The default value of regex will change from True to False in a future version.\n",
      "  birthcountry = birthcountry.str.replace('(.*United States).*', r'\\1') #dropping everything else from the column besides United States\n",
      "C:\\Users\\Acer\\AppData\\Local\\Temp\\ipykernel_9660\\1893543015.py:17: FutureWarning: The default value of regex will change from True to False in a future version.\n",
      "  birthcountry = birthcountry.str.replace('|'.join(chinaplus), \"China\")\n",
      "C:\\Users\\Acer\\AppData\\Local\\Temp\\ipykernel_9660\\1893543015.py:19: FutureWarning: The default value of regex will change from True to False in a future version.\n",
      "  birthcountry = birthcountry.str.replace('|'.join(chinaprov), \"China\")\n",
      "C:\\Users\\Acer\\AppData\\Local\\Temp\\ipykernel_9660\\1893543015.py:20: FutureWarning: The default value of regex will change from True to False in a future version.\n",
      "  birthcountry = birthcountry.str.replace('(.*China).*', r'\\1')\n",
      "C:\\Users\\Acer\\AppData\\Local\\Temp\\ipykernel_9660\\1893543015.py:21: FutureWarning: The default value of regex will change from True to False in a future version.\n",
      "  birthcountry = birthcountry.str.replace(r'\\b(\\w+)\\b\\s+\\1', r'\\1')\n",
      "C:\\Users\\Acer\\AppData\\Local\\Temp\\ipykernel_9660\\1893543015.py:24: FutureWarning: The default value of regex will change from True to False in a future version.\n",
      "  birthcountry = birthcountry.str.replace(r'^.*?(\\bAustralia\\b).*$', r'\\1')\n",
      "C:\\Users\\Acer\\AppData\\Local\\Temp\\ipykernel_9660\\1893543015.py:25: FutureWarning: The default value of regex will change from True to False in a future version.\n",
      "  birthcountry = birthcountry.str.replace(r'^.*?(\\bIndonesia\\b).*$', r'\\1')\n",
      "C:\\Users\\Acer\\AppData\\Local\\Temp\\ipykernel_9660\\1893543015.py:28: FutureWarning: The default value of regex will change from True to False in a future version.\n",
      "  birthcountry = birthcountry.str.replace(r'\\d+', '')\n"
     ]
    }
   ],
   "source": [
    "#cleaning birthplace column \n",
    "#created a copy column \n",
    "birthcountry = df['Birthplace'].str.split(', ').str[-1]\n",
    "birthcountry\n",
    "\n",
    "#manually cleaning some outlier values \n",
    "birthcountry = birthcountry.str.replace(\")\", \"\")\n",
    "birthcountry = birthcountry.str.replace(\"Prague\", \"Czech Republic\")\n",
    "\n",
    "#cleaning the United States, creating a list of the states and possible othen names\n",
    "statesplus = [\"U.S.\", \"United States of America\", \"USA\", \"Alabama\", \"Alaska\", \"Arizona\", \"Arkansas\", \"California\", \"Colorado\", \"Connecticut\", \"Delaware\", \"Florida\", \"Georgia\", \"Hawaii\", \"Idaho\", \"Illinois\", \"Indiana\", \"Iowa\", \"Kansas\", \"Kentucky\", \"Louisiana\", \"Maine\", \"Maryland\", \"Massachusetts\", \"Michigan\", \"Minnesota\", \"Mississippi\", \"Missouri\", \"Montana\", \"Nebraska\", \"Nevada\", \"New Hampshire\", \"New Jersey\", \"New Mexico\", \"New York\", \"North Carolina\", \"North Dakota\", \"Ohio\", \"Oklahoma\", \"Oregon\", \"Pennsylvania\", \"Rhode Island\", \"South Carolina\", \"South Dakota\", \"Tennessee\", \"Texas\", \"Utah\", \"Vermont\", \"Virginia\", \"Washington\", \"West Virginia\", \"Wisconsin\", \"Wyoming\" ]\n",
    "birthcountry = birthcountry.str.replace('|'.join(statesplus), \"United States\")\n",
    "birthcountry = birthcountry.str.replace('(.*United States).*', r'\\1') #dropping everything else from the column besides United States\n",
    "\n",
    "#cleaning China, creating list of provinces and other names, dropping other values \n",
    "chinaplus = [\"PRC\", \"Republic of China\"]\n",
    "birthcountry = birthcountry.str.replace('|'.join(chinaplus), \"China\")\n",
    "chinaprov = [\"Anhui\", \"Fujian\", \"Gansu\", \"Guangdong\", \"Guizhou\", \"Hainan\", \"Hebei\", \"Heilongjiang\", \"Henan\", \"Hubei\", \"Hunan\", \"Jiangsu\", \"Jiangxi\", \"Jilin\", \"Liaoning\", \"Qinghai\", \"Shaanxi\", \"Shandong\", \"Shanxi\", \"Sichuan\", \"Yunnan\", \"Zhejiang\", \"Guangxi\", \"Nei Mongol\", \"Ningxia\", \"Xinjiang\", \"Xizang\", \"Beijing\", \"Chongqing\", \"Shanghai\", \"Tianjin\", \"Hong Kong\", \"Macau\"]\n",
    "birthcountry = birthcountry.str.replace('|'.join(chinaprov), \"China\")\n",
    "birthcountry = birthcountry.str.replace('(.*China).*', r'\\1')\n",
    "birthcountry = birthcountry.str.replace(r'\\b(\\w+)\\b\\s+\\1', r'\\1')\n",
    "\n",
    "# dropping everything else besides country name \n",
    "birthcountry = birthcountry.str.replace(r'^.*?(\\bAustralia\\b).*$', r'\\1')\n",
    "birthcountry = birthcountry.str.replace(r'^.*?(\\bIndonesia\\b).*$', r'\\1')\n",
    "\n",
    "# deleting numbers then replacing empty values to missing \n",
    "birthcountry = birthcountry.str.replace(r'\\d+', '')\n",
    "birthcountry = birthcountry.replace('', np.nan)\n",
    "\n",
    "#Adding it back to theoriginal dataframe \n",
    "df = pd.concat([df, birthcountry], axis=1)"
   ]
  }
 ],
 "metadata": {
  "kernelspec": {
   "display_name": "Python 3",
   "language": "python",
   "name": "python3"
  },
  "language_info": {
   "codemirror_mode": {
    "name": "ipython",
    "version": 3
   },
   "file_extension": ".py",
   "mimetype": "text/x-python",
   "name": "python",
   "nbconvert_exporter": "python",
   "pygments_lexer": "ipython3",
   "version": "3.10.5"
  },
  "orig_nbformat": 4
 },
 "nbformat": 4,
 "nbformat_minor": 2
}
