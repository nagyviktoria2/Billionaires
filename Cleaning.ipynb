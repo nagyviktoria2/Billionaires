{
 "cells": [
  {
   "cell_type": "code",
   "execution_count": null,
   "metadata": {},
   "outputs": [],
   "source": [
    "#Setting up workplace\n",
    "import json\n",
    "import pandas as pd\n",
    "import numpy as np"
   ]
  },
  {
   "cell_type": "code",
   "execution_count": null,
   "metadata": {},
   "outputs": [],
   "source": [
    "with open('people_info.json', 'r') as file: #load it from your library, later it will be on github so it can be loaded from there \n",
    "    data = json.load(file)\n",
    "df = pd.DataFrame(data.values(), index=data.keys(), columns=[\n",
    "    \"Net Worth\", \"Industry\", \"Age\", \"Birthplace\", \"Marital Status\",\n",
    "    \"Nationality\", \"Date of Birth\", \"Citizenship\", \"Occupation\", \"Education\", \"Children\"\n",
    "])"
   ]
  },
  {
   "cell_type": "code",
   "execution_count": null,
   "metadata": {},
   "outputs": [],
   "source": [
    "#resetting index, naming first column \n",
    "df = df.rename(columns={'Unnamed: 0': 'Name'})\n",
    "df.reset_index(inplace=True)\n",
    "df.index.name = \"Index\"\n",
    "df = df.rename(columns = {\"index\" : \"Name\"})"
   ]
  },
  {
   "cell_type": "code",
   "execution_count": null,
   "metadata": {},
   "outputs": [],
   "source": [
    "#cleaning the column \"Name\"\n",
    "#deleting unknown values \n",
    "df = df[df[\"Name\"] != \"Unknown\"]"
   ]
  },
  {
   "cell_type": "code",
   "execution_count": null,
   "metadata": {},
   "outputs": [],
   "source": [
    "#Replacing \"Unknown\" to missing values \n",
    "df = df.replace(\"Unknown\", np.nan)"
   ]
  },
  {
   "cell_type": "code",
   "execution_count": null,
   "metadata": {},
   "outputs": [],
   "source": [
    "#cleaning \"Age\" column\n",
    "\n",
    "#creating a separate \"Age\" dataframe and calculating the mean age\n",
    "Age_column = pd.DataFrame({\"Age\": df[\"Age\"]})\n",
    "Age_column = Age_column.dropna()\n",
    "Age_column[\"Age\"] = Age_column[\"Age\"].astype(int)\n",
    "mean_age = Age_column[\"Age\"].mean()\n",
    "\n",
    "#replacing missing values by mean age\n",
    "mean_age = int(mean_age)\n",
    "df[\"Age\"] = df[\"Age\"].fillna(mean_age)\n"
   ]
  }
 ],
 "metadata": {
  "kernelspec": {
   "display_name": "Python 3",
   "language": "python",
   "name": "python3"
  },
  "language_info": {
   "name": "python",
   "version": "3.10.5"
  },
  "orig_nbformat": 4
 },
 "nbformat": 4,
 "nbformat_minor": 2
}
